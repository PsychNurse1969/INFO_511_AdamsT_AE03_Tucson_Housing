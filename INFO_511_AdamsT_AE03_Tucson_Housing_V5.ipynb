{
 "cells": [
  {
   "cell_type": "code",
   "execution_count": null,
   "id": "c7e98366",
   "metadata": {},
   "outputs": [],
   "source": [
    "'''\n",
    "INFO_511_ Application Exercise 02: Tucson Housing\n",
    "Author: Todd Adams\n",
    "Date: 04/06/2024\n",
    "Description: We are answering questions related to the Tucson Housing dataset.\n",
    "Note: I used VS Code and ChatGPT to help me write this code.\n",
    "'''\n"
   ]
  },
  {
   "cell_type": "markdown",
   "id": "a96d3ddb",
   "metadata": {},
   "source": [
    "**Exercise 1**"
   ]
  },
  {
   "cell_type": "code",
   "execution_count": null,
   "id": "fccc8064",
   "metadata": {},
   "outputs": [],
   "source": [
    "# Import Libraries\n",
    "import pandas as pd\n",
    "import matplotlib.pyplot as plt\n",
    "import seaborn as sns\n",
    "\n",
    "# Load the Dataset\n",
    "tucson_housing = pd.read_csv(\"data/tucson_housing.csv\")\n",
    "\n",
    "garage_types = [\"Single Family\", \"Townhouse\"]\n",
    "\n",
    "# Create a new column 'garage' based on the 'type' column\n",
    "tucson_housing['garage'] = tucson_housing['type'].apply(lambda x: 'Garage' if x in garage_types else 'No garage')"
   ]
  },
  {
   "cell_type": "code",
   "execution_count": null,
   "id": "fe35f4bd",
   "metadata": {},
   "outputs": [],
   "source": [
    "# Plot: histogram of house prices faceted by garage status\n",
    "sns.set(style=\"whitegrid\")\n",
    "\n",
    "g = sns.displot(\n",
    "    data=tucson_housing,\n",
    "    x=\"price\",\n",
    "    col=\"garage\",\n",
    "    hue=\"garage\",\n",
    "    bins=30,                # You can adjust bin count if needed\n",
    "    palette=\"Set2\",\n",
    "    element=\"step\",         # Try \"step\" or \"bars\"\n",
    "    common_bins=True,       # Shared bins across facets\n",
    "    height=5,\n",
    "    aspect=1.2\n",
    ")\n",
    "\n",
    "# Add labels\n",
    "g.set_axis_labels(\"Price ($)\", \"Count\")\n",
    "g.set_titles(\"{col_name}\")\n",
    "g.fig.suptitle(\"Distribution of House Prices in Tucson by Garage Type\", fontsize=16, y=1.05)\n",
    "plt.tight_layout()\n",
    "plt.show()\n"
   ]
  },
  {
   "cell_type": "markdown",
   "id": "ae351a87",
   "metadata": {},
   "source": [
    "Houses with garages (typically Single Family and Townhouses) tend to have higher prices, as shown by the rightward shift of their distribution.  \n",
    "Houses without garages are more frequently clustered at lower price ranges.  \n",
    "This supports the idea that having a garage correlates with higher home value in Tucson."
   ]
  },
  {
   "cell_type": "markdown",
   "id": "2e2d822a",
   "metadata": {},
   "source": [
    "**Exercise 2**"
   ]
  },
  {
   "cell_type": "code",
   "execution_count": null,
   "id": "2c540dcb",
   "metadata": {},
   "outputs": [],
   "source": [
    "# Scatter plot of price vs area, colored by year_built\n",
    "plt.figure(figsize=(10, 6))\n",
    "\n",
    "sns.scatterplot(\n",
    "    data=tucson_housing,\n",
    "    x=\"area\",\n",
    "    y=\"price\",\n",
    "    hue=\"year_built\",\n",
    "    palette=\"viridis\",\n",
    "    alpha=0.6\n",
    ")\n",
    "\n",
    "# Add LOWESS smooth line (nonparametric regression)\n",
    "lowess = sm.nonparametric.lowess\n",
    "smoothed = lowess(endog=tucson_housing['price'], exog=tucson_housing['area'])\n",
    "\n",
    "# Plot the LOWESS curve\n",
    "plt.plot(smoothed[:, 0], smoothed[:, 1], color=\"red\", linewidth=2, label=\"LOWESS fit\")\n",
    "\n",
    "# Labels and title\n",
    "plt.title(\"Relationship between House Area and Price\\nConditioned by Year Built\")\n",
    "plt.xlabel(\"Area (sq ft)\")\n",
    "plt.ylabel(\"Price ($)\")\n",
    "plt.legend(title=\"Year Built\", loc=\"upper left\", bbox_to_anchor=(1, 1))\n",
    "plt.tight_layout()\n",
    "plt.show()\n"
   ]
  },
  {
   "cell_type": "markdown",
   "id": "182b9588",
   "metadata": {},
   "source": [
    "**Claim 1: Larger houses are priced higher**  \n",
    "    The scatter plot shows a clear upward trend: as area increases, price tends to increase.  \n",
    "    The LOWESS curve reinforces this trend, especially for houses under ~2500 sq ft.  \n",
    "    This supports the idea that larger houses are generally more expensive."
   ]
  },
  {
   "cell_type": "markdown",
   "id": "e86bac91",
   "metadata": {},
   "source": [
    "**Claim 2: Newer houses are priced higher**  \n",
    "    The hue gradient shows that many higher-priced homes have darker colors (indicating more recent years).  \n",
    "    However, there are also some expensive older homes, suggesting that while newer houses often cost more, it's not universally true."
   ]
  },
  {
   "cell_type": "markdown",
   "id": "278404b5",
   "metadata": {},
   "source": [
    "**Claim 3: Bigger and more expensive houses tend to be newer ones than smaller and cheaper ones**  \n",
    "    There’s a cluster of large, high-priced houses in the upper-right with more recent construction dates.  \n",
    "    Conversely, smaller, cheaper homes appear more frequently with older construction years.  \n",
    "    This pattern supports the claim, though with some exceptions."
   ]
  }
 ],
 "metadata": {
  "language_info": {
   "name": "python"
  }
 },
 "nbformat": 4,
 "nbformat_minor": 5
}
